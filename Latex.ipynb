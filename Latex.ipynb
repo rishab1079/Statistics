{
  "nbformat": 4,
  "nbformat_minor": 0,
  "metadata": {
    "colab": {
      "provenance": []
    },
    "kernelspec": {
      "name": "python3",
      "display_name": "Python 3"
    },
    "language_info": {
      "name": "python"
    }
  },
  "cells": [
    {
      "cell_type": "code",
      "source": [
        "pip install latexify-py"
      ],
      "metadata": {
        "colab": {
          "base_uri": "https://localhost:8080/"
        },
        "id": "tD_Qx7tciJ70",
        "outputId": "0f0c432e-e35f-4e92-c218-fa76738dda67"
      },
      "execution_count": 2,
      "outputs": [
        {
          "output_type": "stream",
          "name": "stdout",
          "text": [
            "Looking in indexes: https://pypi.org/simple, https://us-python.pkg.dev/colab-wheels/public/simple/\n",
            "Collecting latexify-py\n",
            "  Downloading latexify_py-0.2.0-py3-none-any.whl (22 kB)\n",
            "Requirement already satisfied: dill>=0.3.2 in /usr/local/lib/python3.8/dist-packages (from latexify-py) (0.3.6)\n",
            "Installing collected packages: latexify-py\n",
            "Successfully installed latexify-py-0.2.0\n"
          ]
        }
      ]
    },
    {
      "cell_type": "code",
      "execution_count": 3,
      "metadata": {
        "id": "ZpTZiH_8hv5E"
      },
      "outputs": [],
      "source": [
        "import math\n",
        "import latexify"
      ]
    },
    {
      "cell_type": "code",
      "source": [
        "@latexify.with_latex\n",
        "def solve(a,b,c):\n",
        "  return (-b + math.sqrt(b**2 - 4*a*c))/(2*a)"
      ],
      "metadata": {
        "id": "YCgiZjo4h_Hg"
      },
      "execution_count": 4,
      "outputs": []
    },
    {
      "cell_type": "code",
      "source": [
        "solve"
      ],
      "metadata": {
        "colab": {
          "base_uri": "https://localhost:8080/",
          "height": 56
        },
        "id": "vbI3IoV-iymK",
        "outputId": "75c81e1b-0532-490c-acb5-9a4d2fa5b149"
      },
      "execution_count": 5,
      "outputs": [
        {
          "output_type": "execute_result",
          "data": {
            "text/plain": [
              "<latexify.frontend.LatexifiedFunction at 0x7fbcec3c98e0>"
            ],
            "text/latex": "$$ \\displaystyle \\mathrm{solve}(a, b, c) = \\frac{-b + \\sqrt{b^{{2}} - {4} a c}}{{2} a} $$"
          },
          "metadata": {},
          "execution_count": 5
        }
      ]
    },
    {
      "cell_type": "code",
      "source": [
        "@latexify.with_latex\n",
        "def sinc(x):\n",
        "  if x==0:\n",
        "    return 1\n",
        "  else:\n",
        "    return math.sin(x)/x"
      ],
      "metadata": {
        "id": "Yfb2rSqCizUZ"
      },
      "execution_count": 6,
      "outputs": []
    },
    {
      "cell_type": "code",
      "source": [
        "sinc"
      ],
      "metadata": {
        "colab": {
          "base_uri": "https://localhost:8080/",
          "height": 61
        },
        "id": "nmDZTrxvjHfs",
        "outputId": "25997586-8c4f-4b97-8cb6-9c2f2d8ac563"
      },
      "execution_count": 7,
      "outputs": [
        {
          "output_type": "execute_result",
          "data": {
            "text/plain": [
              "<latexify.frontend.LatexifiedFunction at 0x7fbcec3c9040>"
            ],
            "text/latex": "$$ \\displaystyle \\mathrm{sinc}(x) = \\left\\{ \\begin{array}{ll} {1}, & \\mathrm{if} \\ {x = {0}} \\\\ \\frac{\\sin{\\left({x}\\right)}}{x}, & \\mathrm{otherwise} \\end{array} \\right. $$"
          },
          "metadata": {},
          "execution_count": 7
        }
      ]
    },
    {
      "cell_type": "code",
      "source": [],
      "metadata": {
        "id": "Z0xwVgVajIov"
      },
      "execution_count": null,
      "outputs": []
    }
  ]
}